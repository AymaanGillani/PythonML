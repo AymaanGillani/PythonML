{
 "cells": [
  {
   "cell_type": "code",
   "execution_count": 80,
   "metadata": {},
   "outputs": [
    {
     "output_type": "execute_result",
     "data": {
      "text/plain": "   clump_thickness  unif_cell_size  unif_cell_shape  marg_adhesion  \\\n0                5               1                1              1   \n1                5               4                4              5   \n2                3               1                1              1   \n3                6               8                8              1   \n4                4               1                1              3   \n\n   single_epith_cell_size bare_nuclei  bland_chromatin  normal_nucleoli  \\\n0                       2           1                3                1   \n1                       7          10                3                2   \n2                       2           2                3                1   \n3                       3           4                3                7   \n4                       2           1                3                1   \n\n   mitoses  class  \n0        1      2  \n1        1      2  \n2        1      2  \n3        1      2  \n4        1      2  ",
      "text/html": "<div>\n<style scoped>\n    .dataframe tbody tr th:only-of-type {\n        vertical-align: middle;\n    }\n\n    .dataframe tbody tr th {\n        vertical-align: top;\n    }\n\n    .dataframe thead th {\n        text-align: right;\n    }\n</style>\n<table border=\"1\" class=\"dataframe\">\n  <thead>\n    <tr style=\"text-align: right;\">\n      <th></th>\n      <th>clump_thickness</th>\n      <th>unif_cell_size</th>\n      <th>unif_cell_shape</th>\n      <th>marg_adhesion</th>\n      <th>single_epith_cell_size</th>\n      <th>bare_nuclei</th>\n      <th>bland_chromatin</th>\n      <th>normal_nucleoli</th>\n      <th>mitoses</th>\n      <th>class</th>\n    </tr>\n  </thead>\n  <tbody>\n    <tr>\n      <th>0</th>\n      <td>5</td>\n      <td>1</td>\n      <td>1</td>\n      <td>1</td>\n      <td>2</td>\n      <td>1</td>\n      <td>3</td>\n      <td>1</td>\n      <td>1</td>\n      <td>2</td>\n    </tr>\n    <tr>\n      <th>1</th>\n      <td>5</td>\n      <td>4</td>\n      <td>4</td>\n      <td>5</td>\n      <td>7</td>\n      <td>10</td>\n      <td>3</td>\n      <td>2</td>\n      <td>1</td>\n      <td>2</td>\n    </tr>\n    <tr>\n      <th>2</th>\n      <td>3</td>\n      <td>1</td>\n      <td>1</td>\n      <td>1</td>\n      <td>2</td>\n      <td>2</td>\n      <td>3</td>\n      <td>1</td>\n      <td>1</td>\n      <td>2</td>\n    </tr>\n    <tr>\n      <th>3</th>\n      <td>6</td>\n      <td>8</td>\n      <td>8</td>\n      <td>1</td>\n      <td>3</td>\n      <td>4</td>\n      <td>3</td>\n      <td>7</td>\n      <td>1</td>\n      <td>2</td>\n    </tr>\n    <tr>\n      <th>4</th>\n      <td>4</td>\n      <td>1</td>\n      <td>1</td>\n      <td>3</td>\n      <td>2</td>\n      <td>1</td>\n      <td>3</td>\n      <td>1</td>\n      <td>1</td>\n      <td>2</td>\n    </tr>\n  </tbody>\n</table>\n</div>"
     },
     "metadata": {},
     "execution_count": 80
    }
   ],
   "source": [
    "import numpy as np\n",
    "import pandas as pd\n",
    "import statsmodels.api as sm\n",
    "from sklearn import preprocessing,model_selection,neighbors\n",
    "\n",
    "df=pd.read_csv('breast-cancer-wisconsin.data')\n",
    "df.replace('?', -9999, inplace=True)\n",
    "df.drop(['id'], axis=1, inplace=True)\n",
    "df.head()"
   ]
  },
  {
   "cell_type": "code",
   "execution_count": 81,
   "metadata": {
    "tags": []
   },
   "outputs": [],
   "source": [
    "X=np.array(df.drop(['class'],1))\n",
    "y=np.array(df['class'])\n",
    "X=preprocessing.scale(X)\n"
   ]
  },
  {
   "cell_type": "code",
   "execution_count": 82,
   "metadata": {},
   "outputs": [
    {
     "output_type": "execute_result",
     "data": {
      "text/plain": "<class 'statsmodels.iolib.summary.Summary'>\n\"\"\"\n                                 OLS Regression Results                                \n=======================================================================================\nDep. Variable:                      y   R-squared (uncentered):                   0.089\nModel:                            OLS   Adj. R-squared (uncentered):              0.083\nMethod:                 Least Squares   F-statistic:                              13.62\nDate:                Sat, 27 Jun 2020   Prob (F-statistic):                    1.33e-10\nTime:                        16:38:37   Log-Likelihood:                         -1352.4\nNo. Observations:                 559   AIC:                                      2713.\nDf Residuals:                     555   BIC:                                      2730.\nDf Model:                           4                                                  \nCovariance Type:            nonrobust                                                  \n==============================================================================\n                 coef    std err          t      P>|t|      [0.025      0.975]\n------------------------------------------------------------------------------\nx1             0.2992      0.158      1.891      0.059      -0.012       0.610\nx2             0.4524      0.203      2.227      0.026       0.053       0.851\nx3             0.1409      0.179      0.789      0.430      -0.210       0.492\nx4             0.0586      0.172      0.340      0.734      -0.280       0.397\n==============================================================================\nOmnibus:                       46.345   Durbin-Watson:                   0.059\nProb(Omnibus):                  0.000   Jarque-Bera (JB):               99.836\nSkew:                           0.476   Prob(JB):                     2.09e-22\nKurtosis:                       4.839   Cond. No.                         3.55\n==============================================================================\n\nWarnings:\n[1] Standard Errors assume that the covariance matrix of the errors is correctly specified.\n\"\"\"",
      "text/html": "<table class=\"simpletable\">\n<caption>OLS Regression Results</caption>\n<tr>\n  <th>Dep. Variable:</th>            <td>y</td>        <th>  R-squared (uncentered):</th>      <td>   0.089</td>\n</tr>\n<tr>\n  <th>Model:</th>                   <td>OLS</td>       <th>  Adj. R-squared (uncentered):</th> <td>   0.083</td>\n</tr>\n<tr>\n  <th>Method:</th>             <td>Least Squares</td>  <th>  F-statistic:       </th>          <td>   13.62</td>\n</tr>\n<tr>\n  <th>Date:</th>             <td>Sat, 27 Jun 2020</td> <th>  Prob (F-statistic):</th>          <td>1.33e-10</td>\n</tr>\n<tr>\n  <th>Time:</th>                 <td>16:38:37</td>     <th>  Log-Likelihood:    </th>          <td> -1352.4</td>\n</tr>\n<tr>\n  <th>No. Observations:</th>      <td>   559</td>      <th>  AIC:               </th>          <td>   2713.</td>\n</tr>\n<tr>\n  <th>Df Residuals:</th>          <td>   555</td>      <th>  BIC:               </th>          <td>   2730.</td>\n</tr>\n<tr>\n  <th>Df Model:</th>              <td>     4</td>      <th>                     </th>              <td> </td>   \n</tr>\n<tr>\n  <th>Covariance Type:</th>      <td>nonrobust</td>    <th>                     </th>              <td> </td>   \n</tr>\n</table>\n<table class=\"simpletable\">\n<tr>\n   <td></td>     <th>coef</th>     <th>std err</th>      <th>t</th>      <th>P>|t|</th>  <th>[0.025</th>    <th>0.975]</th>  \n</tr>\n<tr>\n  <th>x1</th> <td>    0.2992</td> <td>    0.158</td> <td>    1.891</td> <td> 0.059</td> <td>   -0.012</td> <td>    0.610</td>\n</tr>\n<tr>\n  <th>x2</th> <td>    0.4524</td> <td>    0.203</td> <td>    2.227</td> <td> 0.026</td> <td>    0.053</td> <td>    0.851</td>\n</tr>\n<tr>\n  <th>x3</th> <td>    0.1409</td> <td>    0.179</td> <td>    0.789</td> <td> 0.430</td> <td>   -0.210</td> <td>    0.492</td>\n</tr>\n<tr>\n  <th>x4</th> <td>    0.0586</td> <td>    0.172</td> <td>    0.340</td> <td> 0.734</td> <td>   -0.280</td> <td>    0.397</td>\n</tr>\n</table>\n<table class=\"simpletable\">\n<tr>\n  <th>Omnibus:</th>       <td>46.345</td> <th>  Durbin-Watson:     </th> <td>   0.059</td>\n</tr>\n<tr>\n  <th>Prob(Omnibus):</th> <td> 0.000</td> <th>  Jarque-Bera (JB):  </th> <td>  99.836</td>\n</tr>\n<tr>\n  <th>Skew:</th>          <td> 0.476</td> <th>  Prob(JB):          </th> <td>2.09e-22</td>\n</tr>\n<tr>\n  <th>Kurtosis:</th>      <td> 4.839</td> <th>  Cond. No.          </th> <td>    3.55</td>\n</tr>\n</table><br/><br/>Warnings:<br/>[1] Standard Errors assume that the covariance matrix of the errors is correctly specified."
     },
     "metadata": {},
     "execution_count": 82
    }
   ],
   "source": [
    "X_train,X_test, y_train, y_test=model_selection.train_test_split(X,y,test_size=0.2)\n",
    "clf=neighbors.KNeighborsClassifier()\n",
    "clf.fit(X_train, y_train)"
   ]
  },
  {
   "cell_type": "code",
   "execution_count": 83,
   "metadata": {
    "tags": []
   },
   "outputs": [
    {
     "output_type": "stream",
     "name": "stdout",
     "text": "0.9642857142857143\n"
    }
   ],
   "source": [
    "accuracy=clf.score(X_test,y_test)\n",
    "print(accuracy)"
   ]
  },
  {
   "cell_type": "code",
   "execution_count": null,
   "metadata": {},
   "outputs": [],
   "source": []
  }
 ],
 "metadata": {
  "kernelspec": {
   "display_name": "Python 3",
   "language": "python",
   "name": "python3"
  },
  "language_info": {
   "codemirror_mode": {
    "name": "ipython",
    "version": 3
   },
   "file_extension": ".py",
   "mimetype": "text/x-python",
   "name": "python",
   "nbconvert_exporter": "python",
   "pygments_lexer": "ipython3",
   "version": "3.7.6-final"
  }
 },
 "nbformat": 4,
 "nbformat_minor": 4
}